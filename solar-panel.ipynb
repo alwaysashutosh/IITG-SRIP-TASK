{
  "cells": [
    {
      "cell_type": "markdown",
      "metadata": {
        "id": "XH55D00J1ydK"
      },
      "source": [
        "\n",
        "\n",
        "> Installing Dependencies\n",
        "\n",
        "\n"
      ]
    },
    {
      "cell_type": "code",
      "execution_count": null,
      "metadata": {
        "collapsed": true,
        "id": "trbms3ID0caI"
      },
      "outputs": [],
      "source": [
        "%pip install numpy pandas matplotlib opencv-python torch shapely supervision ultralytics"
      ]
    },
    {
      "cell_type": "code",
      "execution_count": null,
      "metadata": {
        "colab": {
          "base_uri": "https://localhost:8080/"
        },
        "id": "pp9Covij-FwS",
        "outputId": "365f4f65-232c-4f20-d868-42855a9bb48f"
      },
      "outputs": [],
      "source": [
        "%pip install supervision"
      ]
    },
    {
      "cell_type": "markdown",
      "metadata": {
        "id": "dbO9ZXsC27C_"
      },
      "source": [
        "**Unzipping Files**"
      ]
    },
    {
      "cell_type": "code",
      "execution_count": null,
      "metadata": {
        "colab": {
          "base_uri": "https://localhost:8080/"
        },
        "id": "tF1Nlla02_Fe",
        "outputId": "08f0ecd7-ba84-4072-c7d8-41b61221d2b2"
      },
      "outputs": [],
      "source": [
        "import zipfile\n",
        "import os\n",
        "\n",
        "try:\n",
        "    # Unzip the image files\n",
        "    with zipfile.ZipFile(r'C:\\Users\\ashut\\OneDrive\\Desktop\\ashutosh\\ML-OPS\\IITG-Sample TAsk\\image_chips_native-20250212T103727Z-001.zip', 'r') as zip_ref:\n",
        "        zip_ref.extractall('images')\n",
        "    print(\"Images unzipped successfully!\")\n",
        "\n",
        "    # Unzip the label files\n",
        "    with zipfile.ZipFile(r'C:\\Users\\ashut\\OneDrive\\Desktop\\ashutosh\\ML-OPS\\IITG-Sample TAsk\\labels-20250212T103318Z-001.zip', 'r') as zip_ref:\n",
        "        zip_ref.extractall('labels')\n",
        "    print(\"Labels unzipped successfully!\")\n",
        "\n",
        "except zipfile.BadZipFile:\n",
        "    print(\"Error: The file is not a valid ZIP file or is corrupted.\")\n",
        "except FileNotFoundError:\n",
        "    print(\"Error: The file was not found. Check the file name and path.\")\n",
        "except Exception as e:\n",
        "    print(f\"An unexpected error occurred: {e}\")"
      ]
    },
    {
      "cell_type": "markdown",
      "metadata": {},
      "source": [
        "new1"
      ]
    },
    {
      "cell_type": "code",
      "execution_count": null,
      "metadata": {},
      "outputs": [],
      "source": [
        "import glob\n",
        "import os"
      ]
    },
    {
      "cell_type": "code",
      "execution_count": null,
      "metadata": {},
      "outputs": [],
      "source": [
        "# Define dataset paths\n",
        "images_path = \"images\\image_chips_native\"\n",
        "labels_path = \"labels\\labels\\labels_hd\"\n",
        "\n",
        "# List files safely\n",
        "image_files = glob.glob(os.path.join(images_path, \"*.TIF\"))\n",
        "label_files = glob.glob(os.path.join(labels_path, \"*.txt\"))\n",
        "\n",
        "print(f\"Total images: {len(image_files)}\")\n",
        "print(f\"Total label files: {len(label_files)}\")"
      ]
    },
    {
      "cell_type": "markdown",
      "metadata": {},
      "source": [
        "shot2"
      ]
    },
    {
      "cell_type": "code",
      "execution_count": null,
      "metadata": {},
      "outputs": [],
      "source": [
        "import json\n",
        "import numpy as np\n",
        "\n",
        "solar_panel_count = 0\n",
        "label_counts = []\n",
        "\n",
        "for file in label_files:\n",
        "    with open(file, 'r') as f:\n",
        "        lines = f.readlines()\n",
        "        label_counts.append(len(lines))\n",
        "        solar_panel_count += len(lines)\n",
        "\n",
        "print(\"Total instances of solar panels:\", solar_panel_count)\n",
        "print(\"Label distribution:\", np.bincount(label_counts))"
      ]
    },
    {
      "cell_type": "markdown",
      "metadata": {},
      "source": [
        "Area and other stats"
      ]
    },
    {
      "cell_type": "code",
      "execution_count": null,
      "metadata": {},
      "outputs": [],
      "source": [
        "import matplotlib.pyplot as plt\n",
        "\n",
        "areas = []\n",
        "\n",
        "for file in label_files:\n",
        "    with open(file, 'r') as f:\n",
        "        lines = f.readlines()\n",
        "        for line in lines:\n",
        "            values = line.strip().split()\n",
        "            if len(values) == 5:\n",
        "                _, _, _, width, height = map(float, values)\n",
        "                areas.append(width * height)\n",
        "\n",
        "print(\"Mean Area:\", np.mean(areas))\n",
        "print(\"Standard Deviation:\", np.std(areas))\n",
        "\n",
        "plt.hist(areas, bins=20, edgecolor='black')\n",
        "plt.xlabel('Area (sq meters)')\n",
        "plt.ylabel('Frequency')\n",
        "plt.title('Distribution of Solar Panel Areas')\n",
        "plt.show()"
      ]
    },
    {
      "cell_type": "markdown",
      "metadata": {},
      "source": [
        "Computing IoU using Shapely"
      ]
    },
    {
      "cell_type": "code",
      "execution_count": null,
      "metadata": {},
      "outputs": [],
      "source": [
        "from shapely.geometry import box\n",
        "\n",
        "def yolo_to_shapely_box(yolo_box):\n",
        "    x_c, y_c, w, h = yolo_box\n",
        "    x_min = x_c - (w / 2)\n",
        "    y_min = y_c - (h / 2)\n",
        "    x_max = x_c + (w / 2)\n",
        "    y_max = y_c + (h / 2)\n",
        "    return box(x_min, y_min, x_max, y_max)\n",
        "\n",
        "def calculate_iou(box1, box2):\n",
        "    intersection = box1.intersection(box2).area\n",
        "    union = box1.union(box2).area\n",
        "    return intersection / union if union > 0 else 0"
      ]
    },
    {
      "cell_type": "code",
      "execution_count": null,
      "metadata": {},
      "outputs": [],
      "source": [
        "from sklearn.metrics import precision_recall_curve, auc\n",
        "\n",
        "def compute_ap(y_true, y_scores):\n",
        "    precision, recall, _ = precision_recall_curve(y_true, y_scores)\n",
        "    return auc(recall, precision)"
      ]
    },
    {
      "cell_type": "markdown",
      "metadata": {},
      "source": [
        "YOLO Model"
      ]
    },
    {
      "cell_type": "code",
      "execution_count": null,
      "metadata": {},
      "outputs": [],
      "source": [
        "import mlflow\n",
        "mlflow.set_tracking_uri(\"http://127.0.0.1:5000\")"
      ]
    },
    {
      "cell_type": "code",
      "execution_count": null,
      "metadata": {},
      "outputs": [],
      "source": [
        "import yaml\n",
        "with open(\"solar_dataset.yaml\", 'r') as f:\n",
        "    data = yaml.safe_load(f)\n",
        "print(f\"Validation images directory: {data['val']}\")"
      ]
    },
    {
      "cell_type": "code",
      "execution_count": null,
      "metadata": {},
      "outputs": [],
      "source": [
        "import os\n",
        "\n",
        "# Define dataset directories\n",
        "dataset_dir = r\"C:\\Users\\ashut\\OneDrive\\Desktop\\ashutosh\\ML-OPS\\IITG-Sample TAsk\"\n",
        "train_images = os.path.join(dataset_dir, \"train/images\")\n",
        "val_images = os.path.join(dataset_dir, \"val/images\")\n",
        "test_images = os.path.join(dataset_dir, \"test/images\")\n",
        "\n",
        "# Define label directories (assumed to be in the same structure)\n",
        "train_labels = os.path.join(dataset_dir, \"train/labels\")\n",
        "val_labels = os.path.join(dataset_dir, \"val/labels\")\n",
        "\n",
        "# Create the YAML file\n",
        "yaml_content = f\"\"\"\n",
        "path: {dataset_dir}  \n",
        "train: {train_images}  \n",
        "val: {val_images}  \n",
        "test: {test_images}  \n",
        "\n",
        "nc: 1  \n",
        "names: ['solar_panel']\n",
        "\"\"\"\n",
        "\n",
        "yaml_path = os.path.join(dataset_dir, \"solar_dataset.yaml\")\n",
        "\n",
        "# Write YAML content to a file\n",
        "with open(yaml_path, \"w\") as yaml_file:\n",
        "    yaml_file.write(yaml_content.strip())\n",
        "\n",
        "print(f\"YAML file created at: {yaml_path}\")\n"
      ]
    },
    {
      "cell_type": "code",
      "execution_count": null,
      "metadata": {},
      "outputs": [],
      "source": [
        "import os\n",
        "import shutil\n",
        "import random\n",
        "from sklearn.model_selection import train_test_split\n",
        "\n",
        "dataset_root = \"C:/Users/ashut/OneDrive/Desktop/ashutosh/ML-OPS/IITG-Sample TAsk\"\n",
        "images_dir = os.path.join(dataset_root, \"images\\image_chips_native\")\n",
        "labels_dir = os.path.join(dataset_root, \"labels\\labels\\labels_hd\")\n",
        "\n",
        "image_files = [f for f in os.listdir(images_dir) if f.endswith((\".jpg\", \".JPG\", \".jpeg\", \".JPEG\", \".TIF\", \".tif\"))] # Handle multiple extensions\n",
        "\n",
        "train_files, test_files = train_test_split(image_files, test_size=0.2, random_state=42)\n",
        "train_files, val_files = train_test_split(train_files, test_size=0.1, random_state=42)\n",
        "\n",
        "def move_files(file_list, src_img_dir, src_label_dir, dest_img_dir, dest_label_dir):\n",
        "    os.makedirs(dest_img_dir, exist_ok=True)\n",
        "    os.makedirs(dest_label_dir, exist_ok=True)\n",
        "\n",
        "    for file_name in file_list:\n",
        "        shutil.move(os.path.join(src_img_dir, file_name), os.path.join(dest_img_dir, file_name))\n",
        "        label_name = os.path.splitext(file_name)[0] + \".txt\"  # Improved label name handling\n",
        "        label_path = os.path.join(src_label_dir, label_name)\n",
        "        if os.path.exists(label_path):\n",
        "            shutil.move(label_path, os.path.join(dest_label_dir, label_name))\n",
        "        else:\n",
        "            print(f\"Warning: Label file {label_name} not found for image {file_name}\")\n",
        "\n",
        "\n",
        "move_files(train_files, images_dir, labels_dir, os.path.join(dataset_root, \"train\", \"images\"), os.path.join(dataset_root, \"train\", \"labels\"))\n",
        "move_files(val_files, images_dir, labels_dir, os.path.join(dataset_root, \"val\", \"images\"), os.path.join(dataset_root, \"val\", \"labels\"))\n",
        "move_files(test_files, images_dir, labels_dir, os.path.join(dataset_root, \"test\", \"images\"), os.path.join(dataset_root, \"test\", \"labels\"))\n",
        "\n",
        "print(f\"Train images: {len(train_files)}, Val images: {len(val_files)}, Test images: {len(test_files)}\")"
      ]
    },
    {
      "cell_type": "code",
      "execution_count": null,
      "metadata": {
        "id": "XCz0EodBAOGA"
      },
      "outputs": [],
      "source": [
        "import cv2\n",
        "import os\n",
        "\n",
        "# Path to the images folder\n",
        "image_folder = 'images'\n",
        "\n",
        "# List all image files\n",
        "image_files = os.listdir(image_folder)\n",
        "\n",
        "# Load images into a list\n",
        "images = []\n",
        "for image_file in image_files:\n",
        "    image_path = os.path.join(image_folder, image_file)\n",
        "    image = cv2.imread(image_path)\n",
        "    images.append(image)"
      ]
    },
    {
      "cell_type": "code",
      "execution_count": null,
      "metadata": {
        "colab": {
          "base_uri": "https://localhost:8080/"
        },
        "id": "0Eo91UEMBER6",
        "outputId": "679e97f7-79e2-4881-81c6-bd0505daaf17"
      },
      "outputs": [],
      "source": [
        "import os\n",
        "\n",
        "# List files in labels_hd\n",
        "print(\"Files in labels_hd:\")\n",
        "print(os.listdir('labels\\labels\\labels_hd'))\n",
        "\n",
        "# List files in labels_native\n",
        "print(\"Files in labels_native:\")\n",
        "print(os.listdir('labels\\labels\\labels_native'))"
      ]
    },
    {
      "cell_type": "code",
      "execution_count": null,
      "metadata": {
        "colab": {
          "base_uri": "https://localhost:8080/"
        },
        "collapsed": true,
        "id": "H5tL1dZCCRXg",
        "outputId": "720ec7bd-46eb-4270-da7d-115d9c65d3a9"
      },
      "outputs": [],
      "source": [
        "# Example: Inspect the first label file\n",
        "label_file_path = 'labels\\labels\\labels_native\\solarpanels_native_1__x0_0_y0_6845_dxdy_416.txt'  # Replace with your file path\n",
        "with open(label_file_path, 'r') as f:\n",
        "    lines = f.readlines()\n",
        "    print(\"Contents of the label file:\")\n",
        "    for line in lines:\n",
        "        print(line.strip())"
      ]
    },
    {
      "cell_type": "markdown",
      "metadata": {
        "id": "d4DY8RTKGQgr"
      },
      "source": [
        "**Load YOLO Labels:**"
      ]
    },
    {
      "cell_type": "code",
      "execution_count": null,
      "metadata": {
        "colab": {
          "base_uri": "https://localhost:8080/"
        },
        "id": "SbQWKY0eF8-P",
        "outputId": "ad4e2d04-1c0b-46d8-f3ef-6b0dcc385cfe"
      },
      "outputs": [],
      "source": [
        "def load_yolo_labels(label_file_path):\n",
        "    with open(label_file_path, 'r') as f:\n",
        "        lines = f.readlines()\n",
        "\n",
        "    labels = []\n",
        "    for line in lines:\n",
        "        class_id, x_center, y_center, width, height = map(float, line.strip().split())\n",
        "        labels.append({\n",
        "            'class_id': int(class_id),\n",
        "            'x_center': x_center,\n",
        "            'y_center': y_center,\n",
        "            'width': width,\n",
        "            'height': height\n",
        "        })\n",
        "    return labels\n",
        "\n",
        "# Example usage\n",
        "label_file_path = 'labels\\labels\\labels_native\\solarpanels_native_1__x0_0_y0_6845_dxdy_416.txt'  # Replace with your file path\n",
        "labels = load_yolo_labels(label_file_path)\n",
        "print(\"Loaded labels:\", labels)"
      ]
    },
    {
      "cell_type": "markdown",
      "metadata": {
        "id": "xiBhdUUeGh07"
      },
      "source": [
        "**Code to Match Images with Labels:**"
      ]
    },
    {
      "cell_type": "code",
      "execution_count": null,
      "metadata": {
        "colab": {
          "base_uri": "https://localhost:8080/"
        },
        "id": "pamY8b_mARd6",
        "outputId": "052cea76-f895-4092-f97a-2d1734a9a21b"
      },
      "outputs": [],
      "source": [
        "import os\n",
        "\n",
        "# Example: Match an image with its label file\n",
        "image_folder = 'images/image_chips_native'\n",
        "label_folder = 'labels/labels/labels_native'\n",
        "\n",
        "# List all image files\n",
        "image_files = os.listdir(image_folder)\n",
        "\n",
        "for image_file in image_files:\n",
        "    # Get the corresponding label file\n",
        "    label_file = os.path.splitext(image_file)[0] + '.txt'\n",
        "    label_file_path = os.path.join(label_folder, label_file)\n",
        "\n",
        "    if os.path.exists(label_file_path):\n",
        "        print(f\"Image: {image_file} -> Label: {label_file}\")\n",
        "        # Load the labels for this image\n",
        "        labels = load_yolo_labels(label_file_path)\n",
        "        print(\"Labels for this image:\", labels)\n",
        "    else:\n",
        "        print(f\"Label file not found for image: {image_file}\")"
      ]
    },
    {
      "cell_type": "code",
      "execution_count": null,
      "metadata": {
        "colab": {
          "base_uri": "https://localhost:8080/",
          "height": 435
        },
        "id": "Qpjjz3LUG3GF",
        "outputId": "0c5b0459-c5e4-43ed-bf12-2848f7963e18"
      },
      "outputs": [],
      "source": [
        "%pip install opencv-python\n",
        "\n",
        "import cv2\n",
        "import matplotlib.pyplot as plt\n",
        "import matplotlib.patches as patches\n",
        "\n",
        "# Load the image\n",
        "image_path = os.path.join(image_folder, image_file)\n",
        "image = cv2.imread(image_path)\n",
        "image = cv2.cvtColor(image, cv2.COLOR_BGR2RGB)  # Convert to RGB for matplotlib\n",
        "\n",
        "# Plot the image\n",
        "fig, ax = plt.subplots(1)\n",
        "ax.imshow(image)\n",
        "\n",
        "# Draw bounding boxes for the labels\n",
        "for label in labels:\n",
        "    # Convert YOLO format to bounding box coordinates\n",
        "    x_center = label['x_center'] * image.shape[1]\n",
        "    y_center = label['y_center'] * image.shape[0]\n",
        "    width = label['width'] * image.shape[1]\n",
        "    height = label['height'] * image.shape[0]\n",
        "    x_min = x_center - (width / 2)\n",
        "    y_min = y_center - (height / 2)\n",
        "\n",
        "    # Draw the bounding box\n",
        "    rect = patches.Rectangle((x_min, y_min), width, height, linewidth=2, edgecolor='r', facecolor='none')\n",
        "    ax.add_patch(rect)\n",
        "\n",
        "plt.show()"
      ]
    },
    {
      "cell_type": "code",
      "execution_count": null,
      "metadata": {
        "colab": {
          "base_uri": "https://localhost:8080/",
          "height": 507
        },
        "id": "GhDhe4Hu9xC-",
        "outputId": "74ef03af-9765-4024-f637-51ee2f188c68"
      },
      "outputs": [],
      "source": [
        "import numpy as np\n",
        "import matplotlib.pyplot as plt\n",
        "\n",
        "# Example: Compute areas (assuming width and height are in meters)\n",
        "areas = []\n",
        "for label_file in os.listdir(label_folder):\n",
        "    label_file_path = os.path.join(label_folder, label_file)\n",
        "    with open(label_file_path, 'r') as f:\n",
        "        lines = f.readlines()\n",
        "        for line in lines:\n",
        "            _, _, _, width, height = map(float, line.strip().split())\n",
        "            area = width * height  # Assuming width and height are in meters\n",
        "            areas.append(area)\n",
        "\n",
        "# Calculate mean and standard deviation\n",
        "mean_area = np.mean(areas)\n",
        "std_area = np.std(areas)\n",
        "print(f\"Mean area: {mean_area:.2f} m²\")\n",
        "print(f\"Standard deviation: {std_area:.2f} m²\")\n",
        "\n",
        "# Plot histogram\n",
        "plt.hist(areas, bins=20, edgecolor='black')\n",
        "plt.xlabel('Area (m²)')\n",
        "plt.ylabel('Frequency')\n",
        "plt.title('Distribution of Solar Panel Areas')\n",
        "plt.show()"
      ]
    },
    {
      "cell_type": "code",
      "execution_count": null,
      "metadata": {
        "id": "acMLJwzk98s8"
      },
      "outputs": [],
      "source": [
        "from shapely.geometry import box\n",
        "\n",
        "def calculate_iou(box1, box2):\n",
        "    \"\"\"\n",
        "    Calculate IoU between two bounding boxes using Shapely.\n",
        "    Bounding boxes are in Ultralytics YOLO format: (x_center, y_center, width, height).\n",
        "    \"\"\"\n",
        "    # Convert YOLO format to (x_min, y_min, x_max, y_max)\n",
        "    def yolo_to_corners(yolo_box):\n",
        "        x_center, y_center, width, height = yolo_box\n",
        "        x_min = x_center - (width / 2)\n",
        "        y_min = y_center - (height / 2)\n",
        "        x_max = x_center + (width / 2)\n",
        "        y_max = y_center + (height / 2)\n",
        "        return (x_min, y_min, x_max, y_max)\n",
        "\n",
        "    # Convert boxes to Shapely polygons\n",
        "    box1_poly = box(*yolo_to_corners(box1))\n",
        "    box2_poly = box(*yolo_to_corners(box2))\n",
        "\n",
        "    # Compute intersection and union\n",
        "    intersection = box1_poly.intersection(box2_poly).area\n",
        "    union = box1_poly.union(box2_poly).area\n",
        "\n",
        "    # Compute IoU\n",
        "    iou = intersection / union if union > 0 else 0\n",
        "    return iou\n",
        "    print(iou)"
      ]
    },
    {
      "cell_type": "code",
      "execution_count": null,
      "metadata": {
        "colab": {
          "base_uri": "https://localhost:8080/",
          "height": 211
        },
        "id": "637tnJIw-CvD",
        "outputId": "af625546-7e07-47b0-a0b5-50d757cefc7b"
      },
      "outputs": [],
      "source": [
        "# Example boxes in YOLO format\n",
        "#box1_poly = (0.5, 0.5, 0.4, 0.4)\n",
        "#box2_poly = (0.6, 0.6, 0.4, 0.4)\n",
        "\n",
        "# Compute IoU using Shapely\n",
        "iou_shapely = calculate_iou(box1_poly, box2_poly)\n",
        "\n",
        "print(f\"IoU (Shapely): {iou_shapely:.4f}\")"
      ]
    },
    {
      "cell_type": "code",
      "execution_count": null,
      "metadata": {},
      "outputs": [],
      "source": [
        "%pip install torchvision"
      ]
    },
    {
      "cell_type": "code",
      "execution_count": null,
      "metadata": {},
      "outputs": [],
      "source": [
        "%pip install supervision"
      ]
    },
    {
      "cell_type": "code",
      "execution_count": null,
      "metadata": {
        "colab": {
          "base_uri": "https://localhost:8080/",
          "height": 1000
        },
        "id": "vcyAbW1mHal7",
        "outputId": "d42068cf-eedd-44eb-b20f-e8f3dd5a2f57"
      },
      "outputs": [],
      "source": [
        "# Function to load YOLO labels\n",
        "def load_yolo_labels(label_file_path):\n",
        "    with open(label_file_path, 'r') as f:\n",
        "        lines = f.readlines()\n",
        "\n",
        "    labels = []\n",
        "    for line in lines:\n",
        "        class_id, x_center, y_center, width, height = map(float, line.strip().split())\n",
        "        labels.append({\n",
        "            'class_id': int(class_id),\n",
        "            'x_center': x_center,\n",
        "            'y_center': y_center,\n",
        "            'width': width,\n",
        "            'height': height\n",
        "        })\n",
        "    return labels\n",
        "\n",
        "# Function to convert YOLO format to absolute coordinates\n",
        "def yolo_to_absolute(label, image_width, image_height):\n",
        "    x_center = label['x_center'] * image_width\n",
        "    y_center = label['y_center'] * image_height\n",
        "    width = label['width'] * image_width\n",
        "    height = label['height'] * image_height\n",
        "    x_min = x_center - (width / 2)\n",
        "    y_min = y_center - (height / 2)\n",
        "    x_max = x_center + (width / 2)\n",
        "    y_max = y_center + (height / 2)\n",
        "    return x_min, y_min, x_max, y_max\n",
        "\n",
        "# Example usage\n",
        "image_folder = 'images/image_chips_native'\n",
        "label_folder = 'labels/labels/labels_native'\n",
        "\n",
        "# List all image files\n",
        "image_files = os.listdir(image_folder)\n",
        "\n",
        "for image_file in image_files:\n",
        "    # Get the corresponding label file\n",
        "    label_file = os.path.splitext(image_file)[0] + '.txt'\n",
        "    label_file_path = os.path.join(label_folder, label_file)\n",
        "\n",
        "    if os.path.exists(label_file_path):\n",
        "        print(f\"Image: {image_file} -> Label: {label_file}\")\n",
        "        # Load the labels for this image\n",
        "        labels = load_yolo_labels(label_file_path)\n",
        "        print(\"Labels for this image:\", labels)\n",
        "\n",
        "        # Load the image\n",
        "        image_path = os.path.join(image_folder, image_file)\n",
        "        image = cv2.imread(image_path)\n",
        "        image = cv2.cvtColor(image, cv2.COLOR_BGR2RGB)\n",
        "\n",
        "        # Plot the image with bounding boxes\n",
        "        fig, ax = plt.subplots(1)\n",
        "        ax.imshow(image)\n",
        "\n",
        "        for label in labels:\n",
        "            x_min, y_min, x_max, y_max = yolo_to_absolute(label, image.shape[1], image.shape[0])\n",
        "            width = x_max - x_min\n",
        "            height = y_max - y_min\n",
        "            rect = patches.Rectangle((x_min, y_min), width, height, linewidth=2, edgecolor='r', facecolor='none')\n",
        "            ax.add_patch(rect)\n",
        "\n",
        "        plt.show()\n",
        "    else:\n",
        "        print(f\"Label file not found for image: {image_file}\")"
      ]
    }
  ],
  "metadata": {
    "colab": {
      "provenance": []
    },
    "kernelspec": {
      "display_name": "base",
      "language": "python",
      "name": "python3"
    },
    "language_info": {
      "codemirror_mode": {
        "name": "ipython",
        "version": 3
      },
      "file_extension": ".py",
      "mimetype": "text/x-python",
      "name": "python",
      "nbconvert_exporter": "python",
      "pygments_lexer": "ipython3",
      "version": "3.11.5"
    }
  },
  "nbformat": 4,
  "nbformat_minor": 0
}
